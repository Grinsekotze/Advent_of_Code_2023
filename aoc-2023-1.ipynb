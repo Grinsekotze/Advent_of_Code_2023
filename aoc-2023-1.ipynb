{
 "cells": [
  {
   "cell_type": "markdown",
   "metadata": {},
   "source": [
    "Erster Teil: Gehe durch Liste, lese immer die erste und letzte Ziffer als zweistellige Zahl und addiere"
   ]
  },
  {
   "cell_type": "code",
   "execution_count": 6,
   "metadata": {},
   "outputs": [],
   "source": [
    "import re\n",
    "def calibration_value(s):\n",
    "    s1 = re.sub(\"[^0-9]\", \"\", s)\n",
    "    return 10 * int(s1[0]) + int(s1[len(s1)-1])"
   ]
  },
  {
   "cell_type": "code",
   "execution_count": 7,
   "metadata": {},
   "outputs": [
    {
     "name": "stdout",
     "output_type": "stream",
     "text": [
      "54634\n"
     ]
    }
   ],
   "source": [
    "total = 0\n",
    "with open(\"aoc-2023-1-data.txt\") as f:\n",
    "    lines = f.readlines()\n",
    "    for l in lines:\n",
    "        total = total + calibration_value(l)\n",
    "print(total)"
   ]
  },
  {
   "cell_type": "markdown",
   "metadata": {},
   "source": [
    "Zweiter Teil: Berücksichtige auch ausgeschriebene Ziffern"
   ]
  },
  {
   "cell_type": "code",
   "execution_count": 27,
   "metadata": {},
   "outputs": [],
   "source": [
    "def unspell(s):\n",
    "    digits = [\"zero\", \"one\", \"two\", \"three\", \"four\", \"five\", \"six\", \"seven\", \"eight\", \"nine\"]\n",
    "    for i in range(0,10):\n",
    "        s = re.sub(digits[i], digits[i] + str(i) + digits[i], s)\n",
    "    return s"
   ]
  },
  {
   "cell_type": "code",
   "execution_count": 29,
   "metadata": {},
   "outputs": [
    {
     "name": "stdout",
     "output_type": "stream",
     "text": [
      "53855\n"
     ]
    }
   ],
   "source": [
    "total = 0\n",
    "with open(\"aoc-2023-1-data.txt\") as f:\n",
    "    lines = f.readlines()\n",
    "    for l in lines:\n",
    "        # print(l + \" \" + unspell(l) + \" \" + str(calibration_value(unspell(l))))\n",
    "        total = total + calibration_value(unspell(l))\n",
    "print(total)"
   ]
  }
 ],
 "metadata": {
  "kernelspec": {
   "display_name": "Python 3",
   "language": "python",
   "name": "python3"
  },
  "language_info": {
   "codemirror_mode": {
    "name": "ipython",
    "version": 3
   },
   "file_extension": ".py",
   "mimetype": "text/x-python",
   "name": "python",
   "nbconvert_exporter": "python",
   "pygments_lexer": "ipython3",
   "version": "3.11.3"
  }
 },
 "nbformat": 4,
 "nbformat_minor": 2
}
