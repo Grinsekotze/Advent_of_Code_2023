{
 "cells": [
  {
   "cell_type": "markdown",
   "metadata": {},
   "source": [
    "Erster Teil: Addiere die IDs der Spiele, die mit 12 roten, 13 grünen und 14 blauen Würfeln möglich sind"
   ]
  },
  {
   "cell_type": "code",
   "execution_count": 87,
   "metadata": {},
   "outputs": [],
   "source": [
    "def read_draw(d):\n",
    "    colors = d.split(\", \")\n",
    "    amounts = {\"red\": 0, \"green\": 0, \"blue\": 0}\n",
    "    for c in colors:\n",
    "        x = c.split(\" \")\n",
    "        # print(x)\n",
    "        amounts[x[1]] = amounts[x[1]] + int(x[0])\n",
    "    return amounts\n",
    "\n",
    "def read_game(s):\n",
    "    id = int(s[5:s.find(\":\")])\n",
    "    draw_strings = s[s.find(\":\")+2 : len(s)-1].split(\"; \")\n",
    "    # print(draw_strings)\n",
    "    return id, map(read_draw, draw_strings)\n",
    "\n",
    "def is_possible(game):\n",
    "    res = True\n",
    "    for draw in game:\n",
    "        res = res & (draw[\"red\"] <= 12) & (draw[\"green\"] <= 13) & (draw[\"blue\"] <= 14)\n",
    "    return res"
   ]
  },
  {
   "cell_type": "code",
   "execution_count": 90,
   "metadata": {},
   "outputs": [
    {
     "name": "stdout",
     "output_type": "stream",
     "text": [
      "1867\n"
     ]
    }
   ],
   "source": [
    "total = 0\n",
    "with open(\"aoc-2023-2-data.txt\") as f:\n",
    "    lines = f.readlines()\n",
    "    for l in lines:\n",
    "        id, game = read_game(l)\n",
    "        if(is_possible(game)):\n",
    "            total = total + id\n",
    "print(total)"
   ]
  },
  {
   "cell_type": "markdown",
   "metadata": {},
   "source": [
    "Zweiter Teil: Finde für jedes der Spiele die minimale Anzahl jeder Würfelfarbe, mit der es noch möglich ist. Die *Macht* eines Spiels ist das Produkt dieser drei Anzahlen. Finde die Summe der Mächte aller Spiele"
   ]
  },
  {
   "cell_type": "code",
   "execution_count": 96,
   "metadata": {},
   "outputs": [],
   "source": [
    "def power(game):\n",
    "    colors = [\"red\", \"green\", \"blue\"]\n",
    "    maxima = {\"red\": 0, \"green\": 0, \"blue\": 0}\n",
    "    for draw in game:\n",
    "        for c in colors:\n",
    "            if draw[c] > maxima[c]:\n",
    "                maxima[c] = draw[c]\n",
    "    # print(maxima)\n",
    "    return maxima[\"red\"] * maxima[\"green\"] * maxima[\"blue\"]"
   ]
  },
  {
   "cell_type": "code",
   "execution_count": 97,
   "metadata": {},
   "outputs": [
    {
     "name": "stdout",
     "output_type": "stream",
     "text": [
      "{'red': 4, 'green': 2, 'blue': 6}\n",
      "{'red': 1, 'green': 3, 'blue': 4}\n",
      "{'red': 20, 'green': 13, 'blue': 6}\n",
      "{'red': 14, 'green': 3, 'blue': 15}\n",
      "{'red': 6, 'green': 3, 'blue': 2}\n",
      "2286\n"
     ]
    }
   ],
   "source": [
    "total = 0\n",
    "with open(\"aoc-2023-2-test.txt\") as f:\n",
    "    lines = f.readlines()\n",
    "    for l in lines:\n",
    "        id, game = read_game(l)\n",
    "        total = total + power(game)\n",
    "print(total)"
   ]
  }
 ],
 "metadata": {
  "kernelspec": {
   "display_name": "Python 3",
   "language": "python",
   "name": "python3"
  },
  "language_info": {
   "codemirror_mode": {
    "name": "ipython",
    "version": 3
   },
   "file_extension": ".py",
   "mimetype": "text/x-python",
   "name": "python",
   "nbconvert_exporter": "python",
   "pygments_lexer": "ipython3",
   "version": "3.11.3"
  }
 },
 "nbformat": 4,
 "nbformat_minor": 2
}
